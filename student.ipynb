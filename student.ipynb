{
 "cells": [
  {
   "cell_type": "markdown",
   "metadata": {},
   "source": [
    "## Module 2 Final Project Submission\n",
    "\n",
    "Please fill out:\n",
    "* Student name: Fahima Hyder\n",
    "* Student pace:  Part Time\n",
    "* Scheduled project review date/time: February 13, 2019. 6:30pm\n",
    "* Instructor name: Jeff Herman\n",
    "* Blog post URL: https://fhyder.github.io/module_2_final_project_the_n_justifies_the_means"
   ]
  },
  {
   "cell_type": "code",
   "execution_count": 1,
   "metadata": {},
   "outputs": [],
   "source": [
    "import sqlite3 as sql\n",
    "import pandas as pd\n",
    "import seaborn as sns\n",
    "import numpy as np\n",
    "from scipy import stats\n",
    "import matplotlib.pyplot as plt\n",
    "import math"
   ]
  },
  {
   "cell_type": "code",
   "execution_count": 2,
   "metadata": {},
   "outputs": [],
   "source": [
    "conn = sql.connect('Northwind_small.sqlite')\n",
    "cur = conn.cursor()\n",
    "\n",
    "\n"
   ]
  },
  {
   "cell_type": "markdown",
   "metadata": {},
   "source": [
    "For our first question we are testing if discounts have a statistically significant effect on the number of products customers order? If so, at what level(s) of discount? I will be testing the following hypotheses at a 5% alpha level. I will be performing a one-tailed T-test to test see if the mean of quantities ordered of discounted items is higher than the mean of quantites ordered of non-discounted items. In order to answer this question we will be working with the order details table. Lets first transfer the data from this table into a pandas DataFrame so we can have a nice view of what our dataset looks like."
   ]
  },
  {
   "cell_type": "code",
   "execution_count": 3,
   "metadata": {},
   "outputs": [],
   "source": [
    "order = pd.read_sql_query('SELECT * FROM OrderDetail', conn)"
   ]
  },
  {
   "cell_type": "code",
   "execution_count": 4,
   "metadata": {},
   "outputs": [
    {
     "data": {
      "text/html": [
       "<div>\n",
       "<style scoped>\n",
       "    .dataframe tbody tr th:only-of-type {\n",
       "        vertical-align: middle;\n",
       "    }\n",
       "\n",
       "    .dataframe tbody tr th {\n",
       "        vertical-align: top;\n",
       "    }\n",
       "\n",
       "    .dataframe thead th {\n",
       "        text-align: right;\n",
       "    }\n",
       "</style>\n",
       "<table border=\"1\" class=\"dataframe\">\n",
       "  <thead>\n",
       "    <tr style=\"text-align: right;\">\n",
       "      <th></th>\n",
       "      <th>Id</th>\n",
       "      <th>OrderId</th>\n",
       "      <th>ProductId</th>\n",
       "      <th>UnitPrice</th>\n",
       "      <th>Quantity</th>\n",
       "      <th>Discount</th>\n",
       "    </tr>\n",
       "  </thead>\n",
       "  <tbody>\n",
       "    <tr>\n",
       "      <th>0</th>\n",
       "      <td>10248/11</td>\n",
       "      <td>10248</td>\n",
       "      <td>11</td>\n",
       "      <td>14.0</td>\n",
       "      <td>12</td>\n",
       "      <td>0.0</td>\n",
       "    </tr>\n",
       "    <tr>\n",
       "      <th>1</th>\n",
       "      <td>10248/42</td>\n",
       "      <td>10248</td>\n",
       "      <td>42</td>\n",
       "      <td>9.8</td>\n",
       "      <td>10</td>\n",
       "      <td>0.0</td>\n",
       "    </tr>\n",
       "    <tr>\n",
       "      <th>2</th>\n",
       "      <td>10248/72</td>\n",
       "      <td>10248</td>\n",
       "      <td>72</td>\n",
       "      <td>34.8</td>\n",
       "      <td>5</td>\n",
       "      <td>0.0</td>\n",
       "    </tr>\n",
       "    <tr>\n",
       "      <th>3</th>\n",
       "      <td>10249/14</td>\n",
       "      <td>10249</td>\n",
       "      <td>14</td>\n",
       "      <td>18.6</td>\n",
       "      <td>9</td>\n",
       "      <td>0.0</td>\n",
       "    </tr>\n",
       "    <tr>\n",
       "      <th>4</th>\n",
       "      <td>10249/51</td>\n",
       "      <td>10249</td>\n",
       "      <td>51</td>\n",
       "      <td>42.4</td>\n",
       "      <td>40</td>\n",
       "      <td>0.0</td>\n",
       "    </tr>\n",
       "  </tbody>\n",
       "</table>\n",
       "</div>"
      ],
      "text/plain": [
       "         Id  OrderId  ProductId  UnitPrice  Quantity  Discount\n",
       "0  10248/11    10248         11       14.0        12       0.0\n",
       "1  10248/42    10248         42        9.8        10       0.0\n",
       "2  10248/72    10248         72       34.8         5       0.0\n",
       "3  10249/14    10249         14       18.6         9       0.0\n",
       "4  10249/51    10249         51       42.4        40       0.0"
      ]
     },
     "execution_count": 4,
     "metadata": {},
     "output_type": "execute_result"
    }
   ],
   "source": [
    "order.head()"
   ]
  },
  {
   "cell_type": "markdown",
   "metadata": {},
   "source": [
    "The variables that I will be working with in this hypothesis test will be Quantity at the no discount level and Quantity at discounted levels. Lets isolate these values"
   ]
  },
  {
   "cell_type": "code",
   "execution_count": 5,
   "metadata": {},
   "outputs": [],
   "source": [
    "noDiscount = cur.execute('''SELECT Quantity FROM OrderDetail WHERE Discount = 0''').fetchall()\n",
    "discounted = cur.execute('''SELECT Quantity FROM OrderDetail WHERE Discount != 0''').fetchall()\n"
   ]
  },
  {
   "cell_type": "markdown",
   "metadata": {},
   "source": [
    "Just as a preliminary step lets take a look at distplots to see if there are any noticeable differences in means"
   ]
  },
  {
   "cell_type": "code",
   "execution_count": 6,
   "metadata": {},
   "outputs": [
    {
     "name": "stderr",
     "output_type": "stream",
     "text": [
      "/Users/Hyder/anaconda3/lib/python3.6/site-packages/matplotlib/axes/_axes.py:6462: UserWarning: The 'normed' kwarg is deprecated, and has been replaced by the 'density' kwarg.\n",
      "  warnings.warn(\"The 'normed' kwarg is deprecated, and has been \"\n",
      "/Users/Hyder/anaconda3/lib/python3.6/site-packages/matplotlib/axes/_axes.py:6462: UserWarning: The 'normed' kwarg is deprecated, and has been replaced by the 'density' kwarg.\n",
      "  warnings.warn(\"The 'normed' kwarg is deprecated, and has been \"\n"
     ]
    },
    {
     "data": {
      "image/png": "[encoded data removed]",
      "text/plain": [
       "<Figure size 864x720 with 1 Axes>"
      ]
     },
     "metadata": {},
     "output_type": "display_data"
    }
   ],
   "source": [
    "sns.set(rc={'figure.figsize':(12,10)})\n",
    "sns.distplot(noDiscount, label = 'No Discount') # Blue distribution\n",
    "sns.distplot(discounted,color='Purple', label = 'Discount') # Purple distribution\n",
    "plt.legend()\n",
    "plt.show()"
   ]
  },
  {
   "cell_type": "markdown",
   "metadata": {},
   "source": [
    "Looking at this distplot, it looks like there are higher quantity instances for our discounted distribution. In order to avoid errors in our findings it's important to report on both the practical significance (effect size) and the statistical significance (P-values/T-test) of our tests. Since the question asks for statistical significance lets start there. This is a one-tailed test as we are testing if one mu is larger than the other."
   ]
  },
  {
   "cell_type": "markdown",
   "metadata": {},
   "source": [
    "## NULL HYPOTHESIS : Adding a discount to a product DOES NOT increase the average quantites ordered H0: μ = 21.72\n",
    "\n",
    "## ALTERNATE : Adding a discount to a product DOES increase the average quantites ordered H0: μ > 21.72\n",
    "\n",
    "## Significance level (alpha) : .05\n"
   ]
  },
  {
   "cell_type": "markdown",
   "metadata": {},
   "source": [
    "First, I'll gather some necessary statistical data "
   ]
  },
  {
   "cell_type": "code",
   "execution_count": 7,
   "metadata": {},
   "outputs": [
    {
     "name": "stdout",
     "output_type": "stream",
     "text": [
      "The discounted Quantities contain 838 observations, having a mean of 27.10978520286396 and a standard deviation =  17.500845477669806 , with 837 degrees of freedom. The difference between sample and population means is: 5.394523243866239\n"
     ]
    }
   ],
   "source": [
    "mu = np.mean(noDiscount) # what is our mu\n",
    "\n",
    "sigma = np.std(noDiscount)\n",
    "\n",
    "# Sample mean (x̄) \n",
    "x_bar= np.mean(discounted)\n",
    "\n",
    "# Sample Stadrad Deviation (sigma) using Numpy\n",
    "sigmaDisc = np.std(discounted)\n",
    "\n",
    "# Sample size (n)\n",
    "n = len(discounted)\n",
    "\n",
    "# Degrees of Freedom\n",
    "dof = n-1\n",
    "\n",
    "# Difference in sample mean\n",
    "diff = x_bar - mu\n",
    "\n",
    "alpha = .05\n",
    "\n",
    "print ('The discounted Quantities contain', n, 'observations, having a mean of', x_bar, \"and a standard deviation = \", sigma,\n",
    "       \", with\", dof, 'degrees of freedom. The difference between sample and population means is:', diff)\n",
    "\n"
   ]
  },
  {
   "cell_type": "markdown",
   "metadata": {},
   "source": [
    "The difference between discounted and non-discounted quantities is: 5.39. A positive difference indicates that there is an increase in the sample mean. Now I'll calculate the T-statistic and and compare it to the criticial-Tvalue to determine if this increase is high enough to reject the null hypothesis. In order to run this test I am assuming that my data is colleced randomly and is independent to the best of our knowledge. The assumption of a normal distribution is negligible for sample sizes > 30\n",
    "\n",
    "Our Null hypothesis is only rejected if our T-stat is higher than the critical T-Value and our P-value is lower than the significance level, alpha"
   ]
  },
  {
   "cell_type": "code",
   "execution_count": 8,
   "metadata": {},
   "outputs": [
    {
     "name": "stdout",
     "output_type": "stream",
     "text": [
      "Null hypothesis rejected. Results are statistically significant with t-value = [7.51810676] critical t-value = 1.6466761685634412 and p-value = [1.43089923e-13]\n"
     ]
    }
   ],
   "source": [
    "t = (x_bar -  mu)/(sigmaDisc/np.sqrt(n)) \n",
    "\n",
    "t_critical = stats.t.ppf(1-alpha, dof)\n",
    "results = stats.ttest_1samp(discounted, mu)\n",
    "\n",
    "#print(\"The t-value for sample is\", results[0] , \"and the p-value is\", results[1]) check statement\n",
    "\n",
    "if (results[0] > t_critical) and (results[1] < .05):\n",
    "    print (\"Null hypothesis rejected. Results are statistically significant with t-value =\",\n",
    "    results[0], \"critical t-value =\", t_critical, \"and p-value =\", results[1])\n",
    "else:\n",
    "    print (\"Null hypothesis is True with t-value =\",\n",
    "    [0], \", critical t-value =\", t_critical, \"and p-value =\", results[1])\n",
    "    \n",
    "\n"
   ]
  },
  {
   "cell_type": "markdown",
   "metadata": {},
   "source": [
    "Our tests finds that 95% of the time higher quantities are ordered for items with a discount. "
   ]
  },
  {
   "cell_type": "markdown",
   "metadata": {},
   "source": [
    "Now I know that there is a statistically significant increase on average of quantites ordered for discounted items. The simple effect size is denoted as the difference in means for the two distributions, which I previously found to be 5.3945. Now I will calculate Cohen's D to report the practical significance of our findings  "
   ]
  },
  {
   "cell_type": "code",
   "execution_count": 9,
   "metadata": {},
   "outputs": [],
   "source": [
    "def Cohen_d(group1, group2):\n",
    "\n",
    "    \n",
    "\n",
    "    diff = np.mean(group1) - np.mean(group2)\n",
    "\n",
    "    n1, n2 = len(group1), len(group2)\n",
    "    var1 = np.var(group1)\n",
    "    var2 = np.var(group2)\n",
    "\n",
    "   \n",
    "    pooled_var = (n1 * var1 + n2 * var2) / (n1 + n2)\n",
    "    \n",
    "    \n",
    "    d = diff / np.sqrt(pooled_var)\n",
    "    \n",
    "    return round(abs(d), 1)"
   ]
  },
  {
   "cell_type": "code",
   "execution_count": 10,
   "metadata": {},
   "outputs": [
    {
     "data": {
      "text/plain": [
       "0.3"
      ]
     },
     "execution_count": 10,
     "metadata": {},
     "output_type": "execute_result"
    }
   ],
   "source": [
    "Cohen_d(discounted, noDiscount)"
   ]
  },
  {
   "cell_type": "markdown",
   "metadata": {},
   "source": [
    "So our Cohen's D of .3 shows that the means of our two groups differ by .3 standard deviations. According to Cohen's threshold, this is a small effect size, that is there is a practical significance in between our two group but that difference is, well, small. However, we can conclude that adding a discount has both a statistical and practical significance on the average quantities ordered. "
   ]
  },
  {
   "cell_type": "markdown",
   "metadata": {},
   "source": [
    "Let's also use an A/B test to determine if our sample size is approprate for reports devoid of Type 1 or Type 2 errors.\n",
    "\n",
    "Alpha = .05\n",
    "\n",
    "Beta = .2"
   ]
  },
  {
   "cell_type": "code",
   "execution_count": 11,
   "metadata": {},
   "outputs": [
    {
     "data": {
      "text/plain": [
       "(91.55385301480129, 838)"
      ]
     },
     "execution_count": 11,
     "metadata": {},
     "output_type": "execute_result"
    }
   ],
   "source": [
    "def compute_n(alpha, beta, mu_0, mu_1, var):\n",
    "    z_alpha = stats.norm.ppf(alpha)\n",
    "    z_beta = stats.norm.ppf(beta)\n",
    "    num = ((z_alpha+z_beta)**2)*var\n",
    "    den = (mu_1 - mu_0)**2\n",
    "    return num/den\n",
    "\n",
    "alpha = .05 #Part of A/B test design\n",
    "beta = .2 #Part of A/B test design\n",
    "mu_0 = mu #Part of A/B test design\n",
    "mu_1 = x_bar #Part of A/B test design\n",
    "var = sigmaDisc**2 #sample variance\n",
    "\n",
    "compute_n(alpha, beta, mu_0, mu_1, var), n\n",
    "\n"
   ]
  },
  {
   "cell_type": "markdown",
   "metadata": {},
   "source": [
    "The sample size of 838 is well above the proposed sample size of 92.55 and therefore results are reported with a high degree of confidence. That is our results will incur type 1 errors at a maximum rate of 5% and type 2 errors at a maximum rate of 20%"
   ]
  },
  {
   "cell_type": "markdown",
   "metadata": {},
   "source": [
    "My t-test finds that the null hypothesis can be rejected. Now I will address the second part of the hypothesis and calculate at which levels of discount this significance occurs. First lets find which types of discounts are offered: "
   ]
  },
  {
   "cell_type": "code",
   "execution_count": 12,
   "metadata": {},
   "outputs": [
    {
     "data": {
      "text/plain": [
       "array([0.  , 0.15, 0.05, 0.2 , 0.25, 0.1 , 0.02, 0.03, 0.04, 0.06, 0.01])"
      ]
     },
     "execution_count": 12,
     "metadata": {},
     "output_type": "execute_result"
    }
   ],
   "source": [
    "order.Discount.unique()"
   ]
  },
  {
   "cell_type": "markdown",
   "metadata": {},
   "source": [
    "We can see that the discounts offered are as follow: none, 1%, 2%, 3%, 4%, 5%, 6%, 10%, 15%, 20%, 25%. I will make arrays out of all of the quantity's ordered at each of these discount levels to use in my hypothesis tests."
   ]
  },
  {
   "cell_type": "code",
   "execution_count": 13,
   "metadata": {},
   "outputs": [],
   "source": [
    "noDiscount = cur.execute('''SELECT Quantity FROM OrderDetail WHERE Discount = 0''').fetchall()\n",
    "oneDiscount = cur.execute('''SELECT Quantity FROM OrderDetail WHERE Discount = .01''').fetchall()\n",
    "twoDiscount = cur.execute('''SELECT Quantity FROM OrderDetail WHERE Discount = .02''').fetchall()\n",
    "threeDiscount = cur.execute('''SELECT Quantity FROM OrderDetail WHERE Discount = .03''').fetchall()\n",
    "fourDiscount = cur.execute('''SELECT Quantity FROM OrderDetail WHERE Discount = .04''').fetchall()\n",
    "fiveDiscount = cur.execute('''SELECT Quantity FROM OrderDetail WHERE Discount = .05''').fetchall()\n",
    "sixDiscount = cur.execute('''SELECT Quantity FROM OrderDetail WHERE Discount = .06''').fetchall()\n",
    "tenDiscount = cur.execute('''SELECT Quantity FROM OrderDetail WHERE Discount = .1''').fetchall()\n",
    "fifteenDiscount = cur.execute('''SELECT Quantity FROM OrderDetail WHERE Discount = .15''').fetchall()\n",
    "twentyDiscount = cur.execute('''SELECT Quantity FROM OrderDetail WHERE Discount = .20''').fetchall()\n",
    "twentyfiveDiscount = cur.execute('''SELECT Quantity FROM OrderDetail WHERE Discount = .25''').fetchall()\n",
    "\n"
   ]
  },
  {
   "cell_type": "markdown",
   "metadata": {},
   "source": [
    "I will observe the sample sizes at each discount level to evaluate if a t-test can be conducted. Sample sizes < 30 must display a normal distribution"
   ]
  },
  {
   "cell_type": "code",
   "execution_count": 14,
   "metadata": {},
   "outputs": [
    {
     "name": "stdout",
     "output_type": "stream",
     "text": [
      "1\n",
      "---------\n",
      "2\n",
      "---------\n",
      "3\n",
      "---------\n",
      "1\n",
      "---------\n",
      "185\n",
      "---------\n",
      "1\n",
      "---------\n",
      "173\n",
      "---------\n",
      "157\n",
      "---------\n",
      "161\n",
      "---------\n",
      "154\n",
      "---------\n"
     ]
    }
   ],
   "source": [
    "discountsArray = [oneDiscount, twoDiscount, threeDiscount, fourDiscount, fiveDiscount, sixDiscount, tenDiscount, fifteenDiscount, twentyDiscount, twentyfiveDiscount]\n",
    "for i in discountsArray:\n",
    "    print(len(i))\n",
    "    print('---------')"
   ]
  },
  {
   "cell_type": "markdown",
   "metadata": {},
   "source": [
    "Discounts at the 1, 2, 3, 4, and 6 percent levels report quantities that are too small to report on. These discount levels will not be tested. I will create a function that will run the same t-test above on the remaining discount levels."
   ]
  },
  {
   "cell_type": "code",
   "execution_count": 160,
   "metadata": {},
   "outputs": [],
   "source": [
    "def oneSampleTest(sample, mu, alpha):\n",
    "    x_bar= np.mean(sample)\n",
    "    # Sample Standard Deviation (sigma) using Numpy\n",
    "    sigma = np.std(sample)\n",
    "\n",
    "    # Sample size (n)\n",
    "    n = len(sample)\n",
    "\n",
    "    # Degrees of Freedom\n",
    "    dof = n-1\n",
    "\n",
    "    # Difference in sample mean\n",
    "    diff = x_bar - mu\n",
    "    \n",
    "    alpha = .05 #signficance level\n",
    "    \n",
    "    t = (x_bar -  mu)/(sigma/np.sqrt(n))\n",
    "    t_critical = stats.t.ppf(1-alpha, dof)\n",
    "    results = stats.ttest_1samp(sample, mu)\n",
    "   \n",
    "    if (abs(results[0]) > t_critical) and (results[1] < alpha):\n",
    "        print (\"Null hypothesis rejected. Results are statistically significant with t-value =\", results[0], \"critical t-value =\", t_critical, \"and p-value =\", results[1])\n",
    "    else:\n",
    "        print (\"Null hypothesis is True with t-value =\", results[0],  \", critical t-value =\", t_critical, \"and p-value =\", results[1])\n",
    "    \n",
    "    \n",
    "    \n",
    "   "
   ]
  },
  {
   "cell_type": "code",
   "execution_count": 161,
   "metadata": {},
   "outputs": [
    {
     "name": "stdout",
     "output_type": "stream",
     "text": [
      "Null hypothesis rejected. Results are statistically significant with t-value = [8.70653382] critical t-value = 1.6460123267212001 and p-value = [9.21898675e-18]\n",
      "0.0\n",
      "-----------------------\n",
      "Null hypothesis rejected. Results are statistically significant with t-value = [6.43413055] critical t-value = 1.6531770875301313 and p-value = [1.04454614e-09]\n",
      "6.295548851813088\n",
      "-----------------------\n",
      "Null hypothesis rejected. Results are statistically significant with t-value = [4.79394709] critical t-value = 1.6537609493607581 and p-value = [3.52176736e-06]\n",
      "3.521732260655458\n",
      "-----------------------\n",
      "Null hypothesis rejected. Results are statistically significant with t-value = [6.50788833] critical t-value = 1.6546799956696048 and p-value = [9.86102241e-10]\n",
      "6.666903646097818\n",
      "-----------------------\n",
      "Null hypothesis rejected. Results are statistically significant with t-value = [6.40724684] critical t-value = 1.6544329014554642 and p-value = [1.58154221e-09]\n",
      "5.309582761499172\n",
      "-----------------------\n",
      "Null hypothesis rejected. Results are statistically significant with t-value = [6.61497043] critical t-value = 1.6548738467789963 and p-value = [5.87641914e-10]\n",
      "6.5249977812620195\n",
      "-----------------------\n"
     ]
    }
   ],
   "source": [
    "discountsArray = [noDiscount, fiveDiscount, tenDiscount, fifteenDiscount, twentyDiscount, twentyfiveDiscount]\n",
    "for i in discountsArray:\n",
    "    oneSampleTest(i, mu = mu, alpha = .05)\n",
    "    print(np.mean(i) - np.mean(noDiscount))\n",
    "    print('-----------------------')"
   ]
  },
  {
   "cell_type": "code",
   "execution_count": 162,
   "metadata": {},
   "outputs": [
    {
     "data": {
      "image/png": "[encoded data removed]",
      "text/plain": [
       "<Figure size 864x720 with 1 Axes>"
      ]
     },
     "metadata": {},
     "output_type": "display_data"
    }
   ],
   "source": [
    "mns = []\n",
    "xs = ['No Discount','Five', 'Ten', 'Fifteen', 'Twenty', 'TwentyFive']\n",
    "for i in discountsArray:\n",
    "    mns.append(np.mean(i))\n",
    "plt.bar(xs, mns, align = 'center', alpha = .70, color = 'purple')\n",
    "plt.ylabel('Quantities')\n",
    "plt.title('Quantities Ordered by Discount Level')\n",
    "plt.xlabel('Discount Level')\n",
    "\n",
    "\n",
    "plt.show()"
   ]
  },
  {
   "cell_type": "markdown",
   "metadata": {},
   "source": [
    "Based on my findings above the discount levels that have statistical significance on quantity of products ordered is at the 5, 10, 15, 20, and 25%. If we judge based on difference in means, discounts at the five, fifteen, and twenty five level are pretty neck in neck. \n",
    "\n",
    "\n",
    "For my second hypothesis test I'm interested to know if price has an effect on quantities ordered for discounted items. My instinct tells me that if an item that is priced higher is offered at a discounted rate that item will be sold at larger quantities than lower priced items offered at a discounted rate"
   ]
  },
  {
   "cell_type": "code",
   "execution_count": 163,
   "metadata": {},
   "outputs": [
    {
     "data": {
      "text/html": [
       "<div>\n",
       "<style scoped>\n",
       "    .dataframe tbody tr th:only-of-type {\n",
       "        vertical-align: middle;\n",
       "    }\n",
       "\n",
       "    .dataframe tbody tr th {\n",
       "        vertical-align: top;\n",
       "    }\n",
       "\n",
       "    .dataframe thead th {\n",
       "        text-align: right;\n",
       "    }\n",
       "</style>\n",
       "<table border=\"1\" class=\"dataframe\">\n",
       "  <thead>\n",
       "    <tr style=\"text-align: right;\">\n",
       "      <th></th>\n",
       "      <th>Id</th>\n",
       "      <th>OrderId</th>\n",
       "      <th>ProductId</th>\n",
       "      <th>UnitPrice</th>\n",
       "      <th>Quantity</th>\n",
       "      <th>Discount</th>\n",
       "    </tr>\n",
       "  </thead>\n",
       "  <tbody>\n",
       "    <tr>\n",
       "      <th>0</th>\n",
       "      <td>10248/11</td>\n",
       "      <td>10248</td>\n",
       "      <td>11</td>\n",
       "      <td>14.0</td>\n",
       "      <td>12</td>\n",
       "      <td>0.0</td>\n",
       "    </tr>\n",
       "    <tr>\n",
       "      <th>1</th>\n",
       "      <td>10248/42</td>\n",
       "      <td>10248</td>\n",
       "      <td>42</td>\n",
       "      <td>9.8</td>\n",
       "      <td>10</td>\n",
       "      <td>0.0</td>\n",
       "    </tr>\n",
       "    <tr>\n",
       "      <th>2</th>\n",
       "      <td>10248/72</td>\n",
       "      <td>10248</td>\n",
       "      <td>72</td>\n",
       "      <td>34.8</td>\n",
       "      <td>5</td>\n",
       "      <td>0.0</td>\n",
       "    </tr>\n",
       "    <tr>\n",
       "      <th>3</th>\n",
       "      <td>10249/14</td>\n",
       "      <td>10249</td>\n",
       "      <td>14</td>\n",
       "      <td>18.6</td>\n",
       "      <td>9</td>\n",
       "      <td>0.0</td>\n",
       "    </tr>\n",
       "    <tr>\n",
       "      <th>4</th>\n",
       "      <td>10249/51</td>\n",
       "      <td>10249</td>\n",
       "      <td>51</td>\n",
       "      <td>42.4</td>\n",
       "      <td>40</td>\n",
       "      <td>0.0</td>\n",
       "    </tr>\n",
       "  </tbody>\n",
       "</table>\n",
       "</div>"
      ],
      "text/plain": [
       "         Id  OrderId  ProductId  UnitPrice  Quantity  Discount\n",
       "0  10248/11    10248         11       14.0        12       0.0\n",
       "1  10248/42    10248         42        9.8        10       0.0\n",
       "2  10248/72    10248         72       34.8         5       0.0\n",
       "3  10249/14    10249         14       18.6         9       0.0\n",
       "4  10249/51    10249         51       42.4        40       0.0"
      ]
     },
     "execution_count": 163,
     "metadata": {},
     "output_type": "execute_result"
    }
   ],
   "source": [
    "order.head()\n",
    "\n",
    "    "
   ]
  },
  {
   "cell_type": "markdown",
   "metadata": {},
   "source": [
    "To determine lower-priced items vs. higher priced items I'll take the median of unit price for items that are discounted. I'll then divide my group based on that number as follows"
   ]
  },
  {
   "cell_type": "code",
   "execution_count": 164,
   "metadata": {},
   "outputs": [
    {
     "data": {
      "text/plain": [
       "18.0"
      ]
     },
     "execution_count": 164,
     "metadata": {},
     "output_type": "execute_result"
    }
   ],
   "source": [
    "uP = cur.execute('''SELECT UnitPrice FROM OrderDetail WHERE Discount > 0 ''').fetchall()\n",
    "np.median(uP)\n",
    "\n"
   ]
  },
  {
   "cell_type": "code",
   "execution_count": 165,
   "metadata": {},
   "outputs": [],
   "source": [
    "higherpriced = cur.execute('''SELECT Quantity FROM OrderDetail WHERE Discount > 0 AND UnitPrice > 17''').fetchall()\n",
    "lowerpriced = cur.execute('''SELECT Quantity FROM OrderDetail WHERE Discount > 0  AND UnitPrice < 18''').fetchall()"
   ]
  },
  {
   "cell_type": "markdown",
   "metadata": {},
   "source": [
    "For our second hypothesis test I will be testing at an alpha level of 5%. I will run a two-sample t-test to eliminiate one of the following. This is a two tailed test.\n",
    "\n",
    "## NULL HYPOTHESIS: Mu Quantity (higherpriced) - Mu Quantity (lowerpriced) = 0\n",
    "\n",
    "## ALTERNATE HYPOTHESS: Mu Quantity (higherpriced) - Mu Quantity(lowerpriced) != 0"
   ]
  },
  {
   "cell_type": "markdown",
   "metadata": {},
   "source": [
    "First I'll evaluate the distribution plots for our two groups to get a visual idea of whether means are similar or different"
   ]
  },
  {
   "cell_type": "code",
   "execution_count": 166,
   "metadata": {
    "scrolled": true
   },
   "outputs": [
    {
     "name": "stderr",
     "output_type": "stream",
     "text": [
      "/Users/Hyder/anaconda3/lib/python3.6/site-packages/matplotlib/axes/_axes.py:6462: UserWarning: The 'normed' kwarg is deprecated, and has been replaced by the 'density' kwarg.\n",
      "  warnings.warn(\"The 'normed' kwarg is deprecated, and has been \"\n",
      "/Users/Hyder/anaconda3/lib/python3.6/site-packages/matplotlib/axes/_axes.py:6462: UserWarning: The 'normed' kwarg is deprecated, and has been replaced by the 'density' kwarg.\n",
      "  warnings.warn(\"The 'normed' kwarg is deprecated, and has been \"\n"
     ]
    },
    {
     "data": {
      "image/png": "[encoded data removed]",
      "text/plain": [
       "<Figure size 864x720 with 1 Axes>"
      ]
     },
     "metadata": {},
     "output_type": "display_data"
    }
   ],
   "source": [
    "sns.set(rc={'figure.figsize':(12,10)})\n",
    "sns.distplot(higherpriced, label = 'upper') # Blue distribution\n",
    "sns.distplot(lowerpriced, label = 'lower') # Green distribution\n",
    "plt.legend()\n",
    "plt.show()"
   ]
  },
  {
   "cell_type": "markdown",
   "metadata": {},
   "source": [
    "There's a lot of overlap here we'll calculate our t-statistic to find our p-value and compare it to our alpha of .05 to determine if our null hypothesis is true or false."
   ]
  },
  {
   "cell_type": "code",
   "execution_count": 167,
   "metadata": {},
   "outputs": [],
   "source": [
    "alpha = .05\n",
    "higherpricedmu = np.mean(higherpriced)\n",
    "lowerpricedmu = np.mean(lowerpriced)\n",
    "\n",
    "higherpricedvar = sum([(i - higherpricedmu)**2 for i in higherpriced])\n",
    "lowerpricedvar = sum([(i - lowerpricedmu)**2 for i in lowerpriced])\n",
    "n_higher = len(higherpriced)\n",
    "n_lower = len(lowerpriced)\n",
    "sample_var = (higherpricedvar + lowerpricedvar)/((n_higher + n_lower)-2)\n",
    "top = higherpricedmu - lowerpricedmu\n",
    "bottom = np.sqrt(sample_var * ((1/n_higher + (1/n_lower))))\n",
    "t = top/bottom\n",
    "\n",
    "\n",
    "\n"
   ]
  },
  {
   "cell_type": "markdown",
   "metadata": {},
   "source": [
    "Let's visualize our T_stat and -T-stats to identify our criticial boundaries"
   ]
  },
  {
   "cell_type": "code",
   "execution_count": 168,
   "metadata": {},
   "outputs": [
    {
     "data": {
      "image/png": "[encoded data removed]",
      "text/plain": [
       "<Figure size 576x360 with 1 Axes>"
      ]
     },
     "metadata": {},
     "output_type": "display_data"
    }
   ],
   "source": [
    "def visualize_t(t_stat, n_control, n_experimental):\n",
    "\n",
    "    # initialize a matplotlib \"figure\"\n",
    "    fig = plt.figure(figsize=(8,5))\n",
    "    ax = fig.gca()\n",
    "    # generate points on the x axis between -4 and 4:\n",
    "    xs = np.linspace(-4, 4, 500)\n",
    "\n",
    "    # use stats.t.pdf to get values on the probability density function for the t-distribution\n",
    "    \n",
    "    ys= stats.t.pdf(xs, (n_control+n_experimental-2), 0, 1)\n",
    "    ax.plot(xs, ys, linewidth=3, color='darkred')\n",
    "\n",
    "    ax.axvline(t_stat, color='purple', linestyle='-', lw=5)\n",
    "    ax.axvline(-t_stat, color='purple', linestyle='-', lw=5)\n",
    "\n",
    "    plt.show()\n",
    "    return None\n",
    "\n",
    "n_control = len(higherpriced)\n",
    "n_experimental = len(lowerpriced)\n",
    "visualize_t(t, n_control, n_experimental)"
   ]
  },
  {
   "cell_type": "markdown",
   "metadata": {},
   "source": [
    "The p-value is calculated as the area underneath this curve. We're gonna use SciPy's built in formula's to do it the easy way. Then we'll compare the p-value to our alpha of .05 to determine whether we should reject or null hypothesis or not."
   ]
  },
  {
   "cell_type": "code",
   "execution_count": 169,
   "metadata": {},
   "outputs": [
    {
     "name": "stdout",
     "output_type": "stream",
     "text": [
      "Null hypothesis is true. Results show a p_value of:  [0.40520511] , which is higher than our significance level of  0.05\n"
     ]
    }
   ],
   "source": [
    "p_val = stats.t.sf(abs(t), (n_higher + n_lower)-1) * 2\n",
    "\n",
    "\n",
    "if p_val < alpha:\n",
    "    print('Null hypothesis rejected. Results are statistically significant with a p_value of: ',p_val,', which is lower than our significance level of ', alpha)\n",
    "else:\n",
    "    print('Null hypothesis is true. Results show a p_value of: ',p_val,', which is higher than our significance level of ', alpha)\n"
   ]
  },
  {
   "cell_type": "markdown",
   "metadata": {},
   "source": [
    "Our Null Hypothesis is true, price does not have a statistical effect on Quantities sold at a discounted level. This means that the business would benefit more by applying smaller discounts to their more expensive items. This way quantites sold are increased without critically comprimising profits accrued"
   ]
  },
  {
   "cell_type": "code",
   "execution_count": 170,
   "metadata": {},
   "outputs": [
    {
     "data": {
      "image/png": "[encoded data removed]",
      "text/plain": [
       "<Figure size 864x720 with 1 Axes>"
      ]
     },
     "metadata": {},
     "output_type": "display_data"
    }
   ],
   "source": [
    "# Data to plot\n",
    "labels = 'Unit Price $18 or more', 'Unit Price $17 or less'\n",
    "sizes = [n_higher, n_lower]\n",
    "colors = ['lightcoral', 'lightskyblue']\n",
    "\n",
    " \n",
    "# Plot\n",
    "plt.pie(sizes,  labels=labels, colors=colors,\n",
    "        autopct='%1.1f%%', shadow=True, startangle=140)\n",
    " \n",
    "plt.axis('equal')\n",
    "plt.title('Quantities sold at different price points for Discounted items ')\n",
    "plt.show()"
   ]
  },
  {
   "cell_type": "markdown",
   "metadata": {},
   "source": [
    "For our third hypothesis I've noticed that some units are in stock at much higher quantites than others. Does this have something to do with the price? I will see if higher priced items tend to be in stock in larger quantites than lower priced items. The median of units in stock will serve as the threshold for determining if an item is in \"High Stock\" or \"Low Stock\". I will use a significance level of .05 to test the following. This is a one-tailed test as we are testing if one mu is larger than the other.\n",
    "\n",
    "## NULL HYPOTHESIS: MU of UNIT PRICE of items in LOW STOCK < MU of UNIT PRICE of items in HIGH STOCK\n",
    "\n",
    "## ALTERNATIVE HYPOTHESIS: MU of UNIT PRICE of items in LOW STOCK > MU of UNIT PRICE of items in HIGH STOCK\n",
    "\n",
    "## Alpha: .05"
   ]
  },
  {
   "cell_type": "markdown",
   "metadata": {},
   "source": [
    "This time I'll be using the Product table to access units in stock. "
   ]
  },
  {
   "cell_type": "code",
   "execution_count": 171,
   "metadata": {},
   "outputs": [
    {
     "data": {
      "text/html": [
       "<div>\n",
       "<style scoped>\n",
       "    .dataframe tbody tr th:only-of-type {\n",
       "        vertical-align: middle;\n",
       "    }\n",
       "\n",
       "    .dataframe tbody tr th {\n",
       "        vertical-align: top;\n",
       "    }\n",
       "\n",
       "    .dataframe thead th {\n",
       "        text-align: right;\n",
       "    }\n",
       "</style>\n",
       "<table border=\"1\" class=\"dataframe\">\n",
       "  <thead>\n",
       "    <tr style=\"text-align: right;\">\n",
       "      <th></th>\n",
       "      <th>Id</th>\n",
       "      <th>ProductName</th>\n",
       "      <th>SupplierId</th>\n",
       "      <th>CategoryId</th>\n",
       "      <th>QuantityPerUnit</th>\n",
       "      <th>UnitPrice</th>\n",
       "      <th>UnitsInStock</th>\n",
       "      <th>UnitsOnOrder</th>\n",
       "      <th>ReorderLevel</th>\n",
       "      <th>Discontinued</th>\n",
       "    </tr>\n",
       "  </thead>\n",
       "  <tbody>\n",
       "    <tr>\n",
       "      <th>0</th>\n",
       "      <td>1</td>\n",
       "      <td>Chai</td>\n",
       "      <td>1</td>\n",
       "      <td>1</td>\n",
       "      <td>10 boxes x 20 bags</td>\n",
       "      <td>18.00</td>\n",
       "      <td>39</td>\n",
       "      <td>0</td>\n",
       "      <td>10</td>\n",
       "      <td>0</td>\n",
       "    </tr>\n",
       "    <tr>\n",
       "      <th>1</th>\n",
       "      <td>2</td>\n",
       "      <td>Chang</td>\n",
       "      <td>1</td>\n",
       "      <td>1</td>\n",
       "      <td>24 - 12 oz bottles</td>\n",
       "      <td>19.00</td>\n",
       "      <td>17</td>\n",
       "      <td>40</td>\n",
       "      <td>25</td>\n",
       "      <td>0</td>\n",
       "    </tr>\n",
       "    <tr>\n",
       "      <th>2</th>\n",
       "      <td>3</td>\n",
       "      <td>Aniseed Syrup</td>\n",
       "      <td>1</td>\n",
       "      <td>2</td>\n",
       "      <td>12 - 550 ml bottles</td>\n",
       "      <td>10.00</td>\n",
       "      <td>13</td>\n",
       "      <td>70</td>\n",
       "      <td>25</td>\n",
       "      <td>0</td>\n",
       "    </tr>\n",
       "    <tr>\n",
       "      <th>3</th>\n",
       "      <td>4</td>\n",
       "      <td>Chef Anton's Cajun Seasoning</td>\n",
       "      <td>2</td>\n",
       "      <td>2</td>\n",
       "      <td>48 - 6 oz jars</td>\n",
       "      <td>22.00</td>\n",
       "      <td>53</td>\n",
       "      <td>0</td>\n",
       "      <td>0</td>\n",
       "      <td>0</td>\n",
       "    </tr>\n",
       "    <tr>\n",
       "      <th>4</th>\n",
       "      <td>5</td>\n",
       "      <td>Chef Anton's Gumbo Mix</td>\n",
       "      <td>2</td>\n",
       "      <td>2</td>\n",
       "      <td>36 boxes</td>\n",
       "      <td>21.35</td>\n",
       "      <td>0</td>\n",
       "      <td>0</td>\n",
       "      <td>0</td>\n",
       "      <td>1</td>\n",
       "    </tr>\n",
       "  </tbody>\n",
       "</table>\n",
       "</div>"
      ],
      "text/plain": [
       "   Id                   ProductName  SupplierId  CategoryId  \\\n",
       "0   1                          Chai           1           1   \n",
       "1   2                         Chang           1           1   \n",
       "2   3                 Aniseed Syrup           1           2   \n",
       "3   4  Chef Anton's Cajun Seasoning           2           2   \n",
       "4   5        Chef Anton's Gumbo Mix           2           2   \n",
       "\n",
       "       QuantityPerUnit  UnitPrice  UnitsInStock  UnitsOnOrder  ReorderLevel  \\\n",
       "0   10 boxes x 20 bags      18.00            39             0            10   \n",
       "1   24 - 12 oz bottles      19.00            17            40            25   \n",
       "2  12 - 550 ml bottles      10.00            13            70            25   \n",
       "3       48 - 6 oz jars      22.00            53             0             0   \n",
       "4             36 boxes      21.35             0             0             0   \n",
       "\n",
       "   Discontinued  \n",
       "0             0  \n",
       "1             0  \n",
       "2             0  \n",
       "3             0  \n",
       "4             1  "
      ]
     },
     "execution_count": 171,
     "metadata": {},
     "output_type": "execute_result"
    }
   ],
   "source": [
    "unitsInStock = pd.read_sql_query('''SELECT * FROM Product''', conn)\n",
    "unitsInStock.head()"
   ]
  },
  {
   "cell_type": "markdown",
   "metadata": {},
   "source": [
    "Let's define items that are in High Stock to be items that are in stock of quantites of 100 or higher and low stock to be items in stock of quantites of 30 or lower"
   ]
  },
  {
   "cell_type": "code",
   "execution_count": 172,
   "metadata": {},
   "outputs": [],
   "source": [
    "low_Stock = unitsInStock.loc[unitsInStock['UnitsInStock'] < 31] \n",
    "high_Stock = unitsInStock.loc[unitsInStock['UnitsInStock'] > 99] \n",
    "\n",
    "#lowStock.head()\n",
    "#lowStock.UnitsInStock.unique()\n",
    "#highStock.head()\n",
    "#highStock.UnitsInStock.unique()\n",
    "\n",
    "sample = lowStock.UnitPrice\n",
    "high_unit = highStock.UnitPrice\n",
    "mu = np.mean(high_unit)\n",
    "x_bar = np.mean(sample)\n",
    "alpha = .05"
   ]
  },
  {
   "cell_type": "code",
   "execution_count": 173,
   "metadata": {},
   "outputs": [
    {
     "name": "stdout",
     "output_type": "stream",
     "text": [
      "Null hypothesis rejected. Results are statistically significant with t-value = 2.5575149042902376 critical t-value = 1.6819523559426 and p-value = 0.014242098138597357\n"
     ]
    }
   ],
   "source": [
    "oneSampleTest(sample, mu, alpha)"
   ]
  },
  {
   "cell_type": "markdown",
   "metadata": {},
   "source": [
    "Interestingly enough, our null hypothesis is rejected, price does not have an effect on whether an item is being ordered or not. It seems that quality over quantity rules here. Let's look at Cohen's D to report the practical signficiance of our findings"
   ]
  },
  {
   "cell_type": "code",
   "execution_count": 174,
   "metadata": {},
   "outputs": [
    {
     "data": {
      "text/plain": [
       "0.4"
      ]
     },
     "execution_count": 174,
     "metadata": {},
     "output_type": "execute_result"
    }
   ],
   "source": [
    "Cohen_d(sample, high_unit)"
   ]
  },
  {
   "cell_type": "markdown",
   "metadata": {},
   "source": [
    "Cohen's D shows us that there is a practical significance in our findings but that the effect size is small."
   ]
  },
  {
   "cell_type": "code",
   "execution_count": 175,
   "metadata": {},
   "outputs": [
    {
     "data": {
      "image/png": "[encoded data removed]",
      "text/plain": [
       "<Figure size 864x720 with 1 Axes>"
      ]
     },
     "metadata": {},
     "output_type": "display_data"
    }
   ],
   "source": [
    "\n",
    "plt.figsize = (8,8)\n",
    "colors = ['blue', 'magenta']\n",
    "mns = [x_bar, mu]\n",
    "xs = ['Units in Stock < 30', 'Units in Stock > 99']\n",
    "plt.bar(xs, mns, align = 'center', color = colors)\n",
    "plt.title('Price of Items in High Stock vs. Low Stock')\n",
    "plt.ylabel('Average Price')\n",
    "\n",
    "\n",
    "\n",
    "\n",
    "plt.show()"
   ]
  },
  {
   "cell_type": "markdown",
   "metadata": {},
   "source": [
    "For our last hypothesis test, let's take a look at our customer base for the Northwind database and evaluate their buying habits by country. We'll be using the Customer and Order Details tables for this test. First lets isolate countries from the customer table"
   ]
  },
  {
   "cell_type": "code",
   "execution_count": 176,
   "metadata": {},
   "outputs": [
    {
     "data": {
      "text/html": [
       "<div>\n",
       "<style scoped>\n",
       "    .dataframe tbody tr th:only-of-type {\n",
       "        vertical-align: middle;\n",
       "    }\n",
       "\n",
       "    .dataframe tbody tr th {\n",
       "        vertical-align: top;\n",
       "    }\n",
       "\n",
       "    .dataframe thead th {\n",
       "        text-align: right;\n",
       "    }\n",
       "</style>\n",
       "<table border=\"1\" class=\"dataframe\">\n",
       "  <thead>\n",
       "    <tr style=\"text-align: right;\">\n",
       "      <th></th>\n",
       "      <th>Id</th>\n",
       "      <th>Country</th>\n",
       "    </tr>\n",
       "  </thead>\n",
       "  <tbody>\n",
       "    <tr>\n",
       "      <th>0</th>\n",
       "      <td>ALFKI</td>\n",
       "      <td>Germany</td>\n",
       "    </tr>\n",
       "    <tr>\n",
       "      <th>1</th>\n",
       "      <td>ANATR</td>\n",
       "      <td>Mexico</td>\n",
       "    </tr>\n",
       "    <tr>\n",
       "      <th>2</th>\n",
       "      <td>ANTON</td>\n",
       "      <td>Mexico</td>\n",
       "    </tr>\n",
       "    <tr>\n",
       "      <th>3</th>\n",
       "      <td>AROUT</td>\n",
       "      <td>UK</td>\n",
       "    </tr>\n",
       "    <tr>\n",
       "      <th>4</th>\n",
       "      <td>BERGS</td>\n",
       "      <td>Sweden</td>\n",
       "    </tr>\n",
       "  </tbody>\n",
       "</table>\n",
       "</div>"
      ],
      "text/plain": [
       "      Id  Country\n",
       "0  ALFKI  Germany\n",
       "1  ANATR   Mexico\n",
       "2  ANTON   Mexico\n",
       "3  AROUT       UK\n",
       "4  BERGS   Sweden"
      ]
     },
     "execution_count": 176,
     "metadata": {},
     "output_type": "execute_result"
    }
   ],
   "source": [
    "custdf = pd.read_sql_query('''SELECT Id,Country FROM Customer''', conn)\n",
    "\n",
    "custdf.head()"
   ]
  },
  {
   "cell_type": "markdown",
   "metadata": {},
   "source": [
    "The schema shows that the Customer and Order Details table don't share a key. However, both tables share keys with the Order table. I'll be using the order table to create a dataframe which includes the Country a customer is from and quantities ordered. In order to avoid any confusion, I'll be changing the names of keys so that we can easily identify which table they've come from "
   ]
  },
  {
   "cell_type": "code",
   "execution_count": 177,
   "metadata": {},
   "outputs": [],
   "source": [
    "custdf.columns.values[0] = 'CID'"
   ]
  },
  {
   "cell_type": "code",
   "execution_count": 178,
   "metadata": {},
   "outputs": [
    {
     "data": {
      "text/html": [
       "<div>\n",
       "<style scoped>\n",
       "    .dataframe tbody tr th:only-of-type {\n",
       "        vertical-align: middle;\n",
       "    }\n",
       "\n",
       "    .dataframe tbody tr th {\n",
       "        vertical-align: top;\n",
       "    }\n",
       "\n",
       "    .dataframe thead th {\n",
       "        text-align: right;\n",
       "    }\n",
       "</style>\n",
       "<table border=\"1\" class=\"dataframe\">\n",
       "  <thead>\n",
       "    <tr style=\"text-align: right;\">\n",
       "      <th></th>\n",
       "      <th>Id</th>\n",
       "      <th>CustomerId</th>\n",
       "    </tr>\n",
       "  </thead>\n",
       "  <tbody>\n",
       "    <tr>\n",
       "      <th>0</th>\n",
       "      <td>10248</td>\n",
       "      <td>VINET</td>\n",
       "    </tr>\n",
       "    <tr>\n",
       "      <th>1</th>\n",
       "      <td>10249</td>\n",
       "      <td>TOMSP</td>\n",
       "    </tr>\n",
       "    <tr>\n",
       "      <th>2</th>\n",
       "      <td>10250</td>\n",
       "      <td>HANAR</td>\n",
       "    </tr>\n",
       "    <tr>\n",
       "      <th>3</th>\n",
       "      <td>10251</td>\n",
       "      <td>VICTE</td>\n",
       "    </tr>\n",
       "    <tr>\n",
       "      <th>4</th>\n",
       "      <td>10252</td>\n",
       "      <td>SUPRD</td>\n",
       "    </tr>\n",
       "  </tbody>\n",
       "</table>\n",
       "</div>"
      ],
      "text/plain": [
       "      Id CustomerId\n",
       "0  10248      VINET\n",
       "1  10249      TOMSP\n",
       "2  10250      HANAR\n",
       "3  10251      VICTE\n",
       "4  10252      SUPRD"
      ]
     },
     "execution_count": 178,
     "metadata": {},
     "output_type": "execute_result"
    }
   ],
   "source": [
    "orderdf = pd.read_sql_query('''SELECT Id, CustomerId FROM [Order]''', conn)\n",
    "orderdf.head()\n"
   ]
  },
  {
   "cell_type": "code",
   "execution_count": 179,
   "metadata": {},
   "outputs": [],
   "source": [
    "orderdf.columns.values[0] = 'OID'"
   ]
  },
  {
   "cell_type": "code",
   "execution_count": 180,
   "metadata": {},
   "outputs": [
    {
     "data": {
      "text/html": [
       "<div>\n",
       "<style scoped>\n",
       "    .dataframe tbody tr th:only-of-type {\n",
       "        vertical-align: middle;\n",
       "    }\n",
       "\n",
       "    .dataframe tbody tr th {\n",
       "        vertical-align: top;\n",
       "    }\n",
       "\n",
       "    .dataframe thead th {\n",
       "        text-align: right;\n",
       "    }\n",
       "</style>\n",
       "<table border=\"1\" class=\"dataframe\">\n",
       "  <thead>\n",
       "    <tr style=\"text-align: right;\">\n",
       "      <th></th>\n",
       "      <th>Id</th>\n",
       "      <th>Quantity</th>\n",
       "    </tr>\n",
       "  </thead>\n",
       "  <tbody>\n",
       "    <tr>\n",
       "      <th>0</th>\n",
       "      <td>10248/11</td>\n",
       "      <td>12</td>\n",
       "    </tr>\n",
       "    <tr>\n",
       "      <th>1</th>\n",
       "      <td>10248/42</td>\n",
       "      <td>10</td>\n",
       "    </tr>\n",
       "    <tr>\n",
       "      <th>2</th>\n",
       "      <td>10248/72</td>\n",
       "      <td>5</td>\n",
       "    </tr>\n",
       "    <tr>\n",
       "      <th>3</th>\n",
       "      <td>10249/14</td>\n",
       "      <td>9</td>\n",
       "    </tr>\n",
       "    <tr>\n",
       "      <th>4</th>\n",
       "      <td>10249/51</td>\n",
       "      <td>40</td>\n",
       "    </tr>\n",
       "  </tbody>\n",
       "</table>\n",
       "</div>"
      ],
      "text/plain": [
       "         Id  Quantity\n",
       "0  10248/11        12\n",
       "1  10248/42        10\n",
       "2  10248/72         5\n",
       "3  10249/14         9\n",
       "4  10249/51        40"
      ]
     },
     "execution_count": 180,
     "metadata": {},
     "output_type": "execute_result"
    }
   ],
   "source": [
    "orderdeets = pd.read_sql_query('''SELECT ID, Quantity FROM [Orderdetail]''', conn)\n",
    "orderdeets.head()"
   ]
  },
  {
   "cell_type": "code",
   "execution_count": 181,
   "metadata": {},
   "outputs": [],
   "source": [
    "customer_orders = custdf.join(orderdf)"
   ]
  },
  {
   "cell_type": "code",
   "execution_count": 182,
   "metadata": {},
   "outputs": [],
   "source": [
    "customer_orders = customer_orders.join(orderdeets)"
   ]
  },
  {
   "cell_type": "code",
   "execution_count": 183,
   "metadata": {},
   "outputs": [
    {
     "data": {
      "text/html": [
       "<div>\n",
       "<style scoped>\n",
       "    .dataframe tbody tr th:only-of-type {\n",
       "        vertical-align: middle;\n",
       "    }\n",
       "\n",
       "    .dataframe tbody tr th {\n",
       "        vertical-align: top;\n",
       "    }\n",
       "\n",
       "    .dataframe thead th {\n",
       "        text-align: right;\n",
       "    }\n",
       "</style>\n",
       "<table border=\"1\" class=\"dataframe\">\n",
       "  <thead>\n",
       "    <tr style=\"text-align: right;\">\n",
       "      <th></th>\n",
       "      <th>CID</th>\n",
       "      <th>Country</th>\n",
       "      <th>OID</th>\n",
       "      <th>CustomerId</th>\n",
       "      <th>Id</th>\n",
       "      <th>Quantity</th>\n",
       "    </tr>\n",
       "  </thead>\n",
       "  <tbody>\n",
       "    <tr>\n",
       "      <th>0</th>\n",
       "      <td>ALFKI</td>\n",
       "      <td>Germany</td>\n",
       "      <td>10248</td>\n",
       "      <td>VINET</td>\n",
       "      <td>10248/11</td>\n",
       "      <td>12</td>\n",
       "    </tr>\n",
       "    <tr>\n",
       "      <th>1</th>\n",
       "      <td>ANATR</td>\n",
       "      <td>Mexico</td>\n",
       "      <td>10249</td>\n",
       "      <td>TOMSP</td>\n",
       "      <td>10248/42</td>\n",
       "      <td>10</td>\n",
       "    </tr>\n",
       "    <tr>\n",
       "      <th>2</th>\n",
       "      <td>ANTON</td>\n",
       "      <td>Mexico</td>\n",
       "      <td>10250</td>\n",
       "      <td>HANAR</td>\n",
       "      <td>10248/72</td>\n",
       "      <td>5</td>\n",
       "    </tr>\n",
       "    <tr>\n",
       "      <th>3</th>\n",
       "      <td>AROUT</td>\n",
       "      <td>UK</td>\n",
       "      <td>10251</td>\n",
       "      <td>VICTE</td>\n",
       "      <td>10249/14</td>\n",
       "      <td>9</td>\n",
       "    </tr>\n",
       "    <tr>\n",
       "      <th>4</th>\n",
       "      <td>BERGS</td>\n",
       "      <td>Sweden</td>\n",
       "      <td>10252</td>\n",
       "      <td>SUPRD</td>\n",
       "      <td>10249/51</td>\n",
       "      <td>40</td>\n",
       "    </tr>\n",
       "  </tbody>\n",
       "</table>\n",
       "</div>"
      ],
      "text/plain": [
       "     CID  Country    OID CustomerId        Id  Quantity\n",
       "0  ALFKI  Germany  10248      VINET  10248/11        12\n",
       "1  ANATR   Mexico  10249      TOMSP  10248/42        10\n",
       "2  ANTON   Mexico  10250      HANAR  10248/72         5\n",
       "3  AROUT       UK  10251      VICTE  10249/14         9\n",
       "4  BERGS   Sweden  10252      SUPRD  10249/51        40"
      ]
     },
     "execution_count": 183,
     "metadata": {},
     "output_type": "execute_result"
    }
   ],
   "source": [
    "customer_orders.head()"
   ]
  },
  {
   "cell_type": "markdown",
   "metadata": {},
   "source": [
    "Perfect! Now I'll take a look at all the unique countries the customer base represents."
   ]
  },
  {
   "cell_type": "code",
   "execution_count": 184,
   "metadata": {},
   "outputs": [
    {
     "data": {
      "text/plain": [
       "array(['Germany', 'Mexico', 'UK', 'Sweden', 'France', 'Spain', 'Canada',\n",
       "       'Argentina', 'Switzerland', 'Brazil', 'Austria', 'Italy',\n",
       "       'Portugal', 'USA', 'Venezuela', 'Ireland', 'Belgium', 'Norway',\n",
       "       'Denmark', 'Finland', 'Poland'], dtype=object)"
      ]
     },
     "execution_count": 184,
     "metadata": {},
     "output_type": "execute_result"
    }
   ],
   "source": [
    "customer_orders.Country.unique()"
   ]
  },
  {
   "cell_type": "markdown",
   "metadata": {},
   "source": [
    "Clearly, the main customer base is from Europe, but I noticed that there is also a presence of North American and South American countries. For my last hypothesis test, I'd like to see if South American countries are ordering in statistically significant larger quantities than North American countries with a significance level of .05. This is a one-tailed test as we are testing if one mu is larger than the other.\n",
    "\n",
    "## Null Hypothesis: North America MU > South America Mu\n",
    "## Alternative Hypothesis: North America MU < South America Mu\n",
    "\n",
    "## Alpha: .05"
   ]
  },
  {
   "cell_type": "code",
   "execution_count": 232,
   "metadata": {},
   "outputs": [],
   "source": [
    "northAmerica = customer_orders[(customer_orders['Country'] == 'USA') | (customer_orders['Country'] == 'Mexico') | (customer_orders['Country'] == 'Canada')]\n",
    "southAmerica = customer_orders[(customer_orders['Country'] == 'Venezuela') | (customer_orders['Country'] == 'Brazil') | (customer_orders['Country'] == 'Argentina')]\n",
    "\n",
    "\n"
   ]
  },
  {
   "cell_type": "code",
   "execution_count": 221,
   "metadata": {},
   "outputs": [
    {
     "data": {
      "text/plain": [
       "array(['Argentina', 'Brazil', 'Venezuela'], dtype=object)"
      ]
     },
     "execution_count": 221,
     "metadata": {},
     "output_type": "execute_result"
    }
   ],
   "source": [
    "northAmerica.head()\n",
    "northAmerica.Country.unique()\n",
    "southAmerica.head()\n",
    "southAmerica.Country.unique()"
   ]
  },
  {
   "cell_type": "markdown",
   "metadata": {},
   "source": [
    "Lets first find the simple effect size which is denoted as the difference in means."
   ]
  },
  {
   "cell_type": "code",
   "execution_count": 248,
   "metadata": {},
   "outputs": [],
   "source": [
    "northAmericaMU = np.mean(northAmerica.Quantity)\n",
    "southAmericaMU = np.mean(southAmerica.Quantity)\n",
    "sigmasquared = np.std(southAmerica.Quantity)**2"
   ]
  },
  {
   "cell_type": "code",
   "execution_count": 250,
   "metadata": {},
   "outputs": [
    {
     "data": {
      "text/plain": [
       "8.452380952380953"
      ]
     },
     "execution_count": 250,
     "metadata": {},
     "output_type": "execute_result"
    }
   ],
   "source": [
    "simpleEffect = southAmericaMU - northAmericaMU\n",
    "simpleEffect"
   ]
  },
  {
   "cell_type": "markdown",
   "metadata": {},
   "source": [
    "The simple effect size of 8.42 is a positive number that indicates that South American countries order higher quantites on average than North American countries. Now lets see if these findings are statitstically significant by running a t-test. \n",
    "\n",
    " "
   ]
  },
  {
   "cell_type": "code",
   "execution_count": 251,
   "metadata": {},
   "outputs": [
    {
     "name": "stdout",
     "output_type": "stream",
     "text": [
      "Null hypothesis is True with t-value = 1.5754641278718367 , critical t-value = 1.7530503556925547 and p-value = 0.13600156176180128\n"
     ]
    }
   ],
   "source": [
    "oneSampleTest(southAmerica.Quantity, northAmericaMU, alpha = .05)"
   ]
  },
  {
   "cell_type": "markdown",
   "metadata": {},
   "source": [
    "According to our T-Test although the simple effect size shows that South America orders in higher quantities, these findings are not statistically significant enough to reject our null hypothesis. Lets see if our sample size was appropriate for this test"
   ]
  },
  {
   "cell_type": "code",
   "execution_count": 253,
   "metadata": {},
   "outputs": [
    {
     "data": {
      "text/plain": [
       "(15.357004403323606, 16)"
      ]
     },
     "execution_count": 253,
     "metadata": {},
     "output_type": "execute_result"
    }
   ],
   "source": [
    "compute_n(alpha=.09, beta=.4, mu_0=northAmericaMU, mu_1=southAmericaMU, var=sigmasquared), len(southAmerica.Quantity)"
   ]
  },
  {
   "cell_type": "markdown",
   "metadata": {},
   "source": [
    "Our sample size is high enough to report results with a high degree of confidence. That is our results will incur type 1 errors at a maximum rate of 9% and type 2 errors at a maximum rate of 40%"
   ]
  },
  {
   "cell_type": "markdown",
   "metadata": {},
   "source": [
    "Our null hypothesis is true, let's look at Cohen's d to determine our effect size"
   ]
  },
  {
   "cell_type": "code",
   "execution_count": 254,
   "metadata": {},
   "outputs": [
    {
     "data": {
      "text/plain": [
       "0.5"
      ]
     },
     "execution_count": 254,
     "metadata": {},
     "output_type": "execute_result"
    }
   ],
   "source": [
    "Cohen_d(southAmerica.Quantity, northAmerica.Quantity)"
   ]
  },
  {
   "cell_type": "markdown",
   "metadata": {},
   "source": [
    "Our Cohen's D shows a medium effect size in this instance. Lets look at this visually"
   ]
  },
  {
   "cell_type": "code",
   "execution_count": 256,
   "metadata": {},
   "outputs": [
    {
     "data": {
      "image/png": "[encoded data removed]",
      "text/plain": [
       "<Figure size 864x720 with 1 Axes>"
      ]
     },
     "metadata": {},
     "output_type": "display_data"
    }
   ],
   "source": [
    "\n",
    "\n",
    "plt.figsize=(8,8)\n",
    "mns = [northAmericaMU, southAmericaMU]\n",
    "xs = ['North America', 'South America']\n",
    "\n",
    "plt.bar(xs, mns, align = 'center', alpha = .70, color = 'blue')\n",
    "plt.ylabel('Quantities')\n",
    "plt.title('Quantities Ordered North America vs. South America')\n",
    "plt.xlabel('Continent')\n",
    "\n",
    "\n",
    "plt.show()"
   ]
  },
  {
   "cell_type": "code",
   "execution_count": null,
   "metadata": {},
   "outputs": [],
   "source": []
  }
 ],
 "metadata": {
  "kernelspec": {
   "display_name": "Python 3",
   "language": "python",
   "name": "python3"
  },
  "language_info": {
   "codemirror_mode": {
    "name": "ipython",
    "version": 3
   },
   "file_extension": ".py",
   "mimetype": "text/x-python",
   "name": "python",
   "nbconvert_exporter": "python",
   "pygments_lexer": "ipython3",
   "version": "3.6.5"
  }
 },
 "nbformat": 4,
 "nbformat_minor": 2
}
